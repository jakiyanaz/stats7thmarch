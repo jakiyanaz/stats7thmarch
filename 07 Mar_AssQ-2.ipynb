{
 "cells": [
  {
   "cell_type": "markdown",
   "id": "af7262c2-1e2d-4eac-ac56-2b954994a645",
   "metadata": {},
   "source": [
    "## Q1. What are the three measures of central tendency?"
   ]
  },
  {
   "cell_type": "markdown",
   "id": "2fdaca6e-995a-43fc-b133-3117cfb44fdc",
   "metadata": {},
   "source": [
    "Ans:\n",
    "    \n",
    "    1. Mean\n",
    "    2. Median\n",
    "    3. Mode"
   ]
  },
  {
   "cell_type": "markdown",
   "id": "255082d4-df12-4436-b5b8-7dec167c6440",
   "metadata": {},
   "source": [
    "## Q2. What is the difference between the mean, median, and mode? How are they used to measure the central tendency of a dataset?"
   ]
  },
  {
   "cell_type": "markdown",
   "id": "8fe5ff7c-6c65-45ac-8243-39a8744dfa0a",
   "metadata": {},
   "source": [
    "Ans\n",
    "\n",
    "    Mean : This is the average\n",
    "    Median : This is also the measure of central tendency and it is mosltly used in the case of outliers.\n",
    "    Mode : It gives the most frequently occured element."
   ]
  },
  {
   "cell_type": "markdown",
   "id": "af6a6f6d-4c5e-426a-b772-6e29df8a5951",
   "metadata": {},
   "source": [
    "## Q3. Measure the three measures of central tendency for the given height data:\n",
    "\n",
    " [178,177,176,177,178.2,178,175,179,180,175,178.9,176.2,177,172.5,178,176.5]"
   ]
  },
  {
   "cell_type": "code",
   "execution_count": 2,
   "id": "981238b0-9a87-4cb6-9181-2be6c208d005",
   "metadata": {},
   "outputs": [
    {
     "name": "stdout",
     "output_type": "stream",
     "text": [
      "177.01875 177.0 ModeResult(mode=array([177.]), count=array([3]))\n"
     ]
    },
    {
     "name": "stderr",
     "output_type": "stream",
     "text": [
      "/tmp/ipykernel_1664/2936352756.py:7: FutureWarning: Unlike other reduction functions (e.g. `skew`, `kurtosis`), the default behavior of `mode` typically preserves the axis it acts along. In SciPy 1.11.0, this behavior will change: the default value of `keepdims` will become False, the `axis` over which the statistic is taken will be eliminated, and the value None will no longer be accepted. Set `keepdims` to True or False to avoid this warning.\n",
      "  mode = stats.mode(ds)\n"
     ]
    }
   ],
   "source": [
    "import pandas\n",
    "import numpy\n",
    "from scipy import stats\n",
    "ds = [178,177,176,177,178.2,178,175,179,180,175,178.9,176.2,177,172.5,178,176.5]\n",
    "mean = numpy.mean(ds)\n",
    "median = numpy.median(ds)\n",
    "mode = stats.mode(ds)\n",
    "print(mean, median, mode)"
   ]
  },
  {
   "cell_type": "markdown",
   "id": "943d5855-de3b-45b8-a188-53dd15fc4ff9",
   "metadata": {},
   "source": [
    "## Q4. Find the standard deviation for the given data:\n",
    "\n",
    "[178,177,176,177,178.2,178,175,179,180,175,178.9,176.2,177,172.5,178,176.5]"
   ]
  },
  {
   "cell_type": "code",
   "execution_count": 3,
   "id": "ed0134f9-9f18-4fc2-8392-74c252e0cfa2",
   "metadata": {},
   "outputs": [
    {
     "name": "stdout",
     "output_type": "stream",
     "text": [
      "1.7885814036548633\n"
     ]
    }
   ],
   "source": [
    "data = [178,177,176,177,178.2,178,175,179,180,175,178.9,176.2,177,172.5,178,176.5]\n",
    "sdev = numpy.std(data)\n",
    "print(sdev)"
   ]
  },
  {
   "cell_type": "markdown",
   "id": "1f0638fd-107d-4da8-bb84-74ab81a68b6e",
   "metadata": {},
   "source": [
    "## Q5. How are measures of dispersion such as range, variance, and standard deviation used to describe the spread of a dataset? Provide an example."
   ]
  },
  {
   "cell_type": "markdown",
   "id": "46d1ea9c-3fe1-49e8-bb8e-e7bdce7ef586",
   "metadata": {},
   "source": [
    "Ans:\n",
    "    \n",
    "    range : The range is the simplest measure of dispersion and is calculated as the difference between the maximum and minimum values in the dataset. It provides a rough estimate of the spread but is sensitive to outliers.\n",
    "    \n",
    "    variance : The variance is the average of the squared differences between each data point and the mean of the dataset. It measures the average squared deviation from the mean and is widely used in statistical analysis. A higher variance indicates a greater dispersion of data points.\n",
    "    \n",
    "    standard deviation : The standard deviation is the square root of the variance. It provides a measure of the dispersion of data points in the original units of the dataset. The standard deviation is commonly used due to its interpretability and its relationship with the normal distribution."
   ]
  },
  {
   "cell_type": "markdown",
   "id": "085acad0-83d5-4434-8ae8-b4b5a0561330",
   "metadata": {},
   "source": [
    "## Q6. What is a Venn diagram?"
   ]
  },
  {
   "cell_type": "markdown",
   "id": "b9fa582f-2697-4f50-89ef-2990350e5d32",
   "metadata": {},
   "source": [
    "Ans:\n",
    "    \n",
    "    A Venn diagram is a graphical representation used to visualize the relationships between different sets or groups of objects, elements, or concepts."
   ]
  },
  {
   "cell_type": "markdown",
   "id": "85fd13c4-dbf2-4747-8923-44e65e9e0e54",
   "metadata": {},
   "source": [
    "## Q7. For the two given sets A = (2,3,4,5,6,7) & B = (0,2,6,8,10). Find:\n",
    "\n",
    "(i) \tA ∩ B\n",
    "\n",
    "(ii)\tA ⋃ B"
   ]
  },
  {
   "cell_type": "markdown",
   "id": "5f6cb49a-1107-49c9-9b34-83d6c755ab05",
   "metadata": {},
   "source": [
    "Ans:\n",
    "    \n",
    "    (i) A ∩ B = (2,6)\n",
    "    (ii) A U B = (0,2,3,4,5,6,7,8,10)"
   ]
  },
  {
   "cell_type": "markdown",
   "id": "178960a5-a68e-445f-87b4-4dfaa6fe58f1",
   "metadata": {},
   "source": [
    "## Q8. What do you understand about skewness in data?"
   ]
  },
  {
   "cell_type": "markdown",
   "id": "29420789-f0c7-4ad2-8645-ed3002ec5c7a",
   "metadata": {},
   "source": [
    "Ans:\n",
    "    \n",
    "    Skewness is a statistical measure that describes the asymmetry or lack of symmetry in the distribution of a dataset. It quantifies the extent and direction of departure from a symmetric distribution."
   ]
  },
  {
   "cell_type": "markdown",
   "id": "50a432d3-474d-44f9-bf94-7b131a70f2be",
   "metadata": {},
   "source": [
    "## Q9. If a data is right skewed then what will be the position of median with respect to mean?"
   ]
  },
  {
   "cell_type": "markdown",
   "id": "cd990d40-e99b-4ee3-9560-d01d45b2d30f",
   "metadata": {},
   "source": [
    "Ans:\n",
    "    \n",
    "    The position of median will be to the left side of mean."
   ]
  },
  {
   "cell_type": "markdown",
   "id": "bab74340-53e4-4293-8fd7-a3ab38b8108c",
   "metadata": {},
   "source": [
    "## Q10. Explain the difference between covariance and correlation. How are these measures used in statistical analysis?"
   ]
  },
  {
   "cell_type": "markdown",
   "id": "fe449213-e625-41b8-be4e-993ebe3fb352",
   "metadata": {},
   "source": [
    "Ans:\n",
    "    \n",
    "    Covariance measures the extent and direction of the linear relationship between two variables. It quantifies how changes in one variable correspond to changes in another variable. The covariance can take any value, positive or negative, depending on the direction of the relationship.\n",
    "    \n",
    "    Correlation measures the strength and direction of the linear relationship between two variables, similar to covariance. However, correlation is a standardized measure that is not affected by the scales of the variables. It provides a more interpretable and comparable measure of the relationship between variables."
   ]
  },
  {
   "cell_type": "markdown",
   "id": "e025bafb-8c69-4e58-8411-b3a392f1614b",
   "metadata": {},
   "source": [
    "## Q11. What is the formula for calculating the sample mean? Provide an example calculation for a dataset."
   ]
  },
  {
   "cell_type": "markdown",
   "id": "1e255669-c011-445d-97d4-f6258f1866b0",
   "metadata": {},
   "source": [
    "Ans:\n",
    "    \n",
    "    Formula:  x̄ = (x₁ + x₂ + x₃ + ... + xn) / n"
   ]
  },
  {
   "cell_type": "code",
   "execution_count": 1,
   "id": "b6dfc181-9b03-4a64-8838-2ab140a00750",
   "metadata": {},
   "outputs": [
    {
     "name": "stdout",
     "output_type": "stream",
     "text": [
      "3.0\n"
     ]
    }
   ],
   "source": [
    "ds = [1,2,3,4,5]\n",
    "x = (1+2+3+4+5) / len(ds)\n",
    "print(x)"
   ]
  },
  {
   "cell_type": "markdown",
   "id": "1cea766d-1b6b-4470-9f92-9bb9eb977f26",
   "metadata": {},
   "source": [
    "## Q12. For a normal distribution data what is the relationship between its measure of central tendency?"
   ]
  },
  {
   "cell_type": "markdown",
   "id": "659bff5d-3a50-40db-8a98-304fcdeaeb3f",
   "metadata": {},
   "source": [
    "Ans\n",
    "\n",
    "    For a normal distribution, the mean, median, and mode are all equal and coincide at the center of the distribution."
   ]
  },
  {
   "cell_type": "markdown",
   "id": "58b94c05-f2b5-406b-a135-df9d1f94a9da",
   "metadata": {},
   "source": [
    "## Q13. How is covariance different from correlation?"
   ]
  },
  {
   "cell_type": "markdown",
   "id": "624aac57-404d-4c58-a0c6-a01fa0d2037e",
   "metadata": {},
   "source": [
    "Ans\n",
    "    \n",
    "    Covariance measures the extent and direction of the linear relationship between two variables. It quantifies how changes in one variable correspond to changes in another variable. The covariance can take any value, positive or negative, depending on the direction of the relationship.\n",
    "\n",
    "    Correlation measures the strength and direction of the linear relationship between two variables, similar to covariance. However, correlation is a standardized measure that is not affected by the scales of the variables. It provides a more interpretable and comparable measure of the relationship between variables."
   ]
  },
  {
   "cell_type": "markdown",
   "id": "14d360ec-5020-48a1-ae5f-4e0374757c39",
   "metadata": {},
   "source": [
    "## Q14. How do outliers affect measures of central tendency and dispersion? Provide an example."
   ]
  },
  {
   "cell_type": "code",
   "execution_count": 2,
   "id": "f6a53ef5-6837-4996-a7f3-d14c2bd2a53f",
   "metadata": {},
   "outputs": [
    {
     "name": "stdout",
     "output_type": "stream",
     "text": [
      "3.0 19.166666666666668\n"
     ]
    }
   ],
   "source": [
    " # Ans \n",
    "import numpy\n",
    "ds = [1,2,3,4,5]\n",
    "# mean without outlier\n",
    "mean = numpy.mean(ds)\n",
    "ds2 = [1,2,3,4,5,100]\n",
    "# mean with outlier 100\n",
    "mean2 = numpy.mean(ds2)\n",
    "print(mean, mean2)"
   ]
  },
  {
   "cell_type": "code",
   "execution_count": null,
   "id": "9d4c0a59-e482-47e0-a172-5080fc201b3a",
   "metadata": {},
   "outputs": [],
   "source": []
  }
 ],
 "metadata": {
  "kernelspec": {
   "display_name": "Python 3 (ipykernel)",
   "language": "python",
   "name": "python3"
  },
  "language_info": {
   "codemirror_mode": {
    "name": "ipython",
    "version": 3
   },
   "file_extension": ".py",
   "mimetype": "text/x-python",
   "name": "python",
   "nbconvert_exporter": "python",
   "pygments_lexer": "ipython3",
   "version": "3.10.8"
  }
 },
 "nbformat": 4,
 "nbformat_minor": 5
}
